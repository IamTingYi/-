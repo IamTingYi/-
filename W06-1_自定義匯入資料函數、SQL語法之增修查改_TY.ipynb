{
 "cells": [
  {
   "cell_type": "code",
   "execution_count": 1,
   "metadata": {},
   "outputs": [],
   "source": [
    "from glob import glob\n",
    "import codecs\n",
    "from datetime import datetime\n",
    "import numpy\n",
    "import pandas"
   ]
  },
  {
   "cell_type": "markdown",
   "metadata": {},
   "source": [
    "<h3>資料樣例</h3>\n",
    "<pre>\n",
    "Date\tOpen\tHigh\tLow\tClose\tAdjClose\tVolume\n",
    "Dec 30, 2020\t12,860.75\t12,909.75\t12,820.50\t12,841.50\t12,841.50\t334,304\n",
    "Dec 29, 2020\t12,845.25\t12,918.25\t12,808.25\t12,841.00\t12,841.00\t393,995\n",
    "Dec 28, 2020\t12,676.25\t12,855.50\t12,655.25\t12,832.75\t12,832.75\t346,691\n",
    "Dec 24, 2020\t-\t-\t-\t-\t-\t-\n",
    "</pre>"
   ]
  },
  {
   "cell_type": "markdown",
   "metadata": {},
   "source": [
    "<h3>環境設置</h3>"
   ]
  },
  {
   "cell_type": "code",
   "execution_count": 2,
   "metadata": {},
   "outputs": [
    {
     "data": {
      "text/plain": [
       "['D:/Projects/DB/data\\\\NQF-2017.txt',\n",
       " 'D:/Projects/DB/data\\\\NQF-2018.txt',\n",
       " 'D:/Projects/DB/data\\\\NQF-2019.txt',\n",
       " 'D:/Projects/DB/data\\\\NQF-2020.txt']"
      ]
     },
     "execution_count": 2,
     "metadata": {},
     "output_type": "execute_result"
    }
   ],
   "source": [
    "data_path = 'D:/Projects/DB/data'\n",
    "file_list = glob('%s/NQF-*.txt' % data_path)\n",
    "file_list"
   ]
  },
  {
   "cell_type": "code",
   "execution_count": 3,
   "metadata": {},
   "outputs": [],
   "source": [
    "datatable = 'StockInfo'"
   ]
  },
  {
   "cell_type": "markdown",
   "metadata": {},
   "source": [
    "<h3>工具函數</h3>\n",
    "<h3>#在變數前面加_代表是一個暫存的變數檔案(業界不成文習慣)</h3>"
   ]
  },
  {
   "cell_type": "code",
   "execution_count": 4,
   "metadata": {},
   "outputs": [],
   "source": [
    "def import_data(stockID, file_name):\n",
    "    _dataset = pandas.read_csv(\n",
    "        file_name, delimiter='\\t', parse_dates=[0], infer_datetime_format=True,\n",
    "        header=0, names=['StockDate', 'StockOpen', 'StockHigh', \n",
    "                         'StockLow', 'StockClose', 'StockAdjClose', 'StockVol'],\n",
    "    )\n",
    "    #delimiter='\\t'：欄位間隔為tab鍵\n",
    "    #parse_dates=[0]：定義日期欄位在哪裡\n",
    "    #infer_datetime_format=True：自動判斷資料格式\n",
    "    #header=0：不要欄位名稱\n",
    "    #names=[]：重新定義欄位名稱\n",
    "    \n",
    "    _dataset['StockID'] = stockID\n",
    "    _dataset = _dataset.sort_values(by=['StockDate'])\n",
    "    \n",
    "    _dataset.reset_index(drop=True, inplace=True) #不要有index的效果\n",
    "    #drop=True：不管前面有沒有設置好的index都刪掉\n",
    "    #inplace=True：取代原本的內部資料結構\n",
    "    \n",
    "    _dataset = _dataset.loc[_dataset['StockVol'] != '-']\n",
    "    \n",
    "    _number_fields = ['StockOpen', 'StockHigh', 'StockLow', 'StockClose', \n",
    "                      'StockAdjClose', 'StockVol']\n",
    "    #定義想要變成數值欄位的欄位名稱\n",
    "    \n",
    "    _dataset[_number_fields] = _dataset[_number_fields].apply(\n",
    "        lambda x: pandas.to_numeric(x.astype(str).str.replace(',', ''), errors='coerce')\n",
    "    )\n",
    "    #先把x轉成字串，呼叫字串將,取代成空值，最後再轉為數值(numeric)型態\n",
    "    #apply()：執行後方的短函數\n",
    "    #x.astype(str).str：將x轉成字串並呼叫字串\n",
    "    #replace(',', '')：將,(千分位的,)替換成空值\n",
    "    \n",
    "    _dataset['StockVol'] = _dataset['StockVol'] / 1000.0\n",
    "            \n",
    "    return _dataset[['StockID', 'StockDate', \n",
    "                    'StockOpen', 'StockHigh', 'StockLow', 'StockClose', \n",
    "                    'StockAdjClose', 'StockVol']]\n",
    "    #改變欄位顯示順序"
   ]
  },
  {
   "cell_type": "markdown",
   "metadata": {},
   "source": [
    "<h3>載入檔案</h3>"
   ]
  },
  {
   "cell_type": "code",
   "execution_count": 5,
   "metadata": {},
   "outputs": [],
   "source": [
    "_dataset = import_data('NQF', file_list[0])"
   ]
  },
  {
   "cell_type": "code",
   "execution_count": 6,
   "metadata": {},
   "outputs": [
    {
     "data": {
      "text/html": [
       "<div>\n",
       "<style scoped>\n",
       "    .dataframe tbody tr th:only-of-type {\n",
       "        vertical-align: middle;\n",
       "    }\n",
       "\n",
       "    .dataframe tbody tr th {\n",
       "        vertical-align: top;\n",
       "    }\n",
       "\n",
       "    .dataframe thead th {\n",
       "        text-align: right;\n",
       "    }\n",
       "</style>\n",
       "<table border=\"1\" class=\"dataframe\">\n",
       "  <thead>\n",
       "    <tr style=\"text-align: right;\">\n",
       "      <th></th>\n",
       "      <th>StockID</th>\n",
       "      <th>StockDate</th>\n",
       "      <th>StockOpen</th>\n",
       "      <th>StockHigh</th>\n",
       "      <th>StockLow</th>\n",
       "      <th>StockClose</th>\n",
       "      <th>StockAdjClose</th>\n",
       "      <th>StockVol</th>\n",
       "    </tr>\n",
       "  </thead>\n",
       "  <tbody>\n",
       "    <tr>\n",
       "      <th>246</th>\n",
       "      <td>NQF</td>\n",
       "      <td>2017-12-22</td>\n",
       "      <td>6489.75</td>\n",
       "      <td>6501.75</td>\n",
       "      <td>6467.50</td>\n",
       "      <td>6483.75</td>\n",
       "      <td>6483.75</td>\n",
       "      <td>130.810</td>\n",
       "    </tr>\n",
       "    <tr>\n",
       "      <th>247</th>\n",
       "      <td>NQF</td>\n",
       "      <td>2017-12-26</td>\n",
       "      <td>6482.50</td>\n",
       "      <td>6492.00</td>\n",
       "      <td>6432.25</td>\n",
       "      <td>6460.00</td>\n",
       "      <td>6460.00</td>\n",
       "      <td>135.130</td>\n",
       "    </tr>\n",
       "    <tr>\n",
       "      <th>248</th>\n",
       "      <td>NQF</td>\n",
       "      <td>2017-12-27</td>\n",
       "      <td>6461.25</td>\n",
       "      <td>6475.50</td>\n",
       "      <td>6442.00</td>\n",
       "      <td>6454.00</td>\n",
       "      <td>6454.00</td>\n",
       "      <td>158.481</td>\n",
       "    </tr>\n",
       "    <tr>\n",
       "      <th>249</th>\n",
       "      <td>NQF</td>\n",
       "      <td>2017-12-28</td>\n",
       "      <td>6452.25</td>\n",
       "      <td>6477.50</td>\n",
       "      <td>6442.25</td>\n",
       "      <td>6446.25</td>\n",
       "      <td>6446.25</td>\n",
       "      <td>138.254</td>\n",
       "    </tr>\n",
       "    <tr>\n",
       "      <th>250</th>\n",
       "      <td>NQF</td>\n",
       "      <td>2017-12-29</td>\n",
       "      <td>6444.50</td>\n",
       "      <td>6467.75</td>\n",
       "      <td>6383.25</td>\n",
       "      <td>6408.75</td>\n",
       "      <td>6408.75</td>\n",
       "      <td>210.114</td>\n",
       "    </tr>\n",
       "  </tbody>\n",
       "</table>\n",
       "</div>"
      ],
      "text/plain": [
       "    StockID  StockDate  StockOpen  StockHigh  StockLow  StockClose  \\\n",
       "246     NQF 2017-12-22    6489.75    6501.75   6467.50     6483.75   \n",
       "247     NQF 2017-12-26    6482.50    6492.00   6432.25     6460.00   \n",
       "248     NQF 2017-12-27    6461.25    6475.50   6442.00     6454.00   \n",
       "249     NQF 2017-12-28    6452.25    6477.50   6442.25     6446.25   \n",
       "250     NQF 2017-12-29    6444.50    6467.75   6383.25     6408.75   \n",
       "\n",
       "     StockAdjClose  StockVol  \n",
       "246        6483.75   130.810  \n",
       "247        6460.00   135.130  \n",
       "248        6454.00   158.481  \n",
       "249        6446.25   138.254  \n",
       "250        6408.75   210.114  "
      ]
     },
     "execution_count": 6,
     "metadata": {},
     "output_type": "execute_result"
    }
   ],
   "source": [
    "_dataset.tail()"
   ]
  },
  {
   "cell_type": "markdown",
   "metadata": {},
   "source": [
    "<h3>建立表格 SQL 命令稿</h3>"
   ]
  },
  {
   "cell_type": "code",
   "execution_count": 7,
   "metadata": {},
   "outputs": [
    {
     "data": {
      "text/plain": [
       "['CREATE TABLE \"StockInfo\" (',\n",
       " '\"StockID\" TEXT,',\n",
       " '  \"StockDate\" TIMESTAMP,',\n",
       " '  \"StockOpen\" REAL,',\n",
       " '  \"StockHigh\" REAL,',\n",
       " '  \"StockLow\" REAL,',\n",
       " '  \"StockClose\" REAL,',\n",
       " '  \"StockAdjClose\" REAL,',\n",
       " '  \"StockVol\" REAL',\n",
       " ')']"
      ]
     },
     "execution_count": 7,
     "metadata": {},
     "output_type": "execute_result"
    }
   ],
   "source": [
    "_create_table_sql = pandas.io.sql.get_schema(_dataset, datatable).split('\\n') #把資料轉成SQL語句，並用split('\\n')分隔成陣列形式\n",
    "_create_table_sql"
   ]
  },
  {
   "cell_type": "markdown",
   "metadata": {},
   "source": [
    "<h3>新增筆錄至表格內 SQL 命令稿</h3>"
   ]
  },
  {
   "cell_type": "code",
   "execution_count": 8,
   "metadata": {},
   "outputs": [
    {
     "data": {
      "text/plain": [
       "\"INSERT INTO StockInfo (StockID, StockDate, StockOpen, StockHigh, StockLow, StockClose, StockAdjClose, StockVol) VALUES('NQF','2017-01-03',4876.75,4927.5,4876.75,4906.25,4906.25,215.983)\""
      ]
     },
     "execution_count": 8,
     "metadata": {},
     "output_type": "execute_result"
    }
   ],
   "source": [
    "_sql = 'INSERT INTO %s ' % datatable\n",
    "_sql = _sql + '(%s, %s, %s, %s, %s, %s, %s, %s) ' % tuple(_dataset.columns) #格式化的表示法要使用tuple\n",
    "\n",
    "_insert_table_sql_list = [] #產生一個空陣列\n",
    "\n",
    "for i in range(_dataset.shape[0]): #看有多少筆資料就跑幾次迴圈\n",
    "    _row = _dataset.iloc[i]\n",
    "    _insert_table_sql = _sql + \"VALUES('%s','%s',%s,%s,%s,%s,%s,%s)\" % (\n",
    "        _row['StockID'], _row['StockDate'].strftime('%Y-%m-%d'), #strftime：字串轉日期格式\n",
    "        _row['StockOpen'], _row['StockHigh'], _row['StockLow'], _row['StockClose'],\n",
    "        _row['StockAdjClose'], _row['StockVol']\n",
    "    )    \n",
    "    \n",
    "    _insert_table_sql_list.append(_insert_table_sql) #把每一筆資料加到陣列\n",
    "\n",
    "_insert_table_sql_list[0]"
   ]
  },
  {
   "cell_type": "code",
   "execution_count": 9,
   "metadata": {},
   "outputs": [
    {
     "data": {
      "text/plain": [
       "'INSERT INTO StockInfo (StockID, StockDate, StockOpen, StockHigh, StockLow, StockClose, StockAdjClose, StockVol) '"
      ]
     },
     "execution_count": 9,
     "metadata": {},
     "output_type": "execute_result"
    }
   ],
   "source": [
    "_sql"
   ]
  },
  {
   "cell_type": "code",
   "execution_count": 10,
   "metadata": {},
   "outputs": [
    {
     "data": {
      "text/plain": [
       "\"INSERT INTO StockInfo (StockID, StockDate, StockOpen, StockHigh, StockLow, StockClose, StockAdjClose, StockVol) VALUES('NQF','2020-12-24',-100.0,-100.0,-100.0,-100.0,-100.0,100.0)\""
      ]
     },
     "execution_count": 10,
     "metadata": {},
     "output_type": "execute_result"
    }
   ],
   "source": [
    "_insert_table_sql = _sql + \"VALUES('%s','%s',%s,%s,%s,%s,%s,%s)\" % (\n",
    "        'NQF', '2020-12-24', -100.0, -100.0, -100.0, -100.0, -100.0, 100.0\n",
    "    )  \n",
    "\n",
    "_insert_table_sql"
   ]
  },
  {
   "cell_type": "markdown",
   "metadata": {},
   "source": [
    "<h3>異動筆錄至表格內 SQL 命令稿</h3>"
   ]
  },
  {
   "cell_type": "code",
   "execution_count": 11,
   "metadata": {},
   "outputs": [
    {
     "data": {
      "text/plain": [
       "\"UPDATE StockInfo SET StockVol=0.0 WHERE StockID='NQF' AND StockDate='2020-12-24'\""
      ]
     },
     "execution_count": 11,
     "metadata": {},
     "output_type": "execute_result"
    }
   ],
   "source": [
    "_update_table_sql = \"UPDATE %s SET %s=%s WHERE StockID='%s' AND StockDate='%s'\" % (\n",
    "    datatable, 'StockVol', 0.0, 'NQF', '2020-12-24')\n",
    "#WHERE：給定update的條件\n",
    "\n",
    "_update_table_sql"
   ]
  },
  {
   "cell_type": "markdown",
   "metadata": {},
   "source": [
    "<h3>刪除筆錄至表格內 SQL 命令稿</h3>"
   ]
  },
  {
   "cell_type": "code",
   "execution_count": 12,
   "metadata": {},
   "outputs": [
    {
     "data": {
      "text/plain": [
       "\"DELETE FROM StockInfo WHERE StockID='NQF' AND StockDate='2020-12-24'\""
      ]
     },
     "execution_count": 12,
     "metadata": {},
     "output_type": "execute_result"
    }
   ],
   "source": [
    "_delete_table_sql = \"DELETE FROM %s WHERE StockID='%s' AND StockDate='%s'\" % (\n",
    "    datatable, 'NQF', '2020-12-24')\n",
    "\n",
    "_delete_table_sql"
   ]
  },
  {
   "cell_type": "code",
   "execution_count": null,
   "metadata": {},
   "outputs": [],
   "source": []
  }
 ],
 "metadata": {
  "kernelspec": {
   "display_name": "Python 3",
   "language": "python",
   "name": "python3"
  },
  "language_info": {
   "codemirror_mode": {
    "name": "ipython",
    "version": 3
   },
   "file_extension": ".py",
   "mimetype": "text/x-python",
   "name": "python",
   "nbconvert_exporter": "python",
   "pygments_lexer": "ipython3",
   "version": "3.7.6"
  }
 },
 "nbformat": 4,
 "nbformat_minor": 5
}
